{
 "cells": [
  {
   "cell_type": "code",
   "execution_count": 2,
   "id": "208b894c",
   "metadata": {},
   "outputs": [],
   "source": [
    "import pandas as pd"
   ]
  },
  {
   "cell_type": "code",
   "execution_count": 3,
   "id": "db0cb31a",
   "metadata": {},
   "outputs": [],
   "source": [
    "dados_nvidia = pd.read_csv('./archive/NVIDIA-(1999-2023).csv')"
   ]
  },
  {
   "cell_type": "code",
   "execution_count": 4,
   "id": "02db04db",
   "metadata": {},
   "outputs": [
    {
     "data": {
      "text/html": [
       "<div>\n",
       "<style scoped>\n",
       "    .dataframe tbody tr th:only-of-type {\n",
       "        vertical-align: middle;\n",
       "    }\n",
       "\n",
       "    .dataframe tbody tr th {\n",
       "        vertical-align: top;\n",
       "    }\n",
       "\n",
       "    .dataframe thead th {\n",
       "        text-align: right;\n",
       "    }\n",
       "</style>\n",
       "<table border=\"1\" class=\"dataframe\">\n",
       "  <thead>\n",
       "    <tr style=\"text-align: right;\">\n",
       "      <th></th>\n",
       "      <th>Date</th>\n",
       "      <th>Open</th>\n",
       "      <th>High</th>\n",
       "      <th>Low</th>\n",
       "      <th>Close</th>\n",
       "      <th>Adj Close</th>\n",
       "      <th>Volume</th>\n",
       "    </tr>\n",
       "  </thead>\n",
       "  <tbody>\n",
       "    <tr>\n",
       "      <th>0</th>\n",
       "      <td>1999-01-25</td>\n",
       "      <td>0.442708</td>\n",
       "      <td>0.458333</td>\n",
       "      <td>0.410156</td>\n",
       "      <td>0.453125</td>\n",
       "      <td>0.415786</td>\n",
       "      <td>51048000</td>\n",
       "    </tr>\n",
       "    <tr>\n",
       "      <th>1</th>\n",
       "      <td>1999-01-26</td>\n",
       "      <td>0.458333</td>\n",
       "      <td>0.467448</td>\n",
       "      <td>0.411458</td>\n",
       "      <td>0.417969</td>\n",
       "      <td>0.383527</td>\n",
       "      <td>34320000</td>\n",
       "    </tr>\n",
       "    <tr>\n",
       "      <th>2</th>\n",
       "      <td>1999-01-27</td>\n",
       "      <td>0.419271</td>\n",
       "      <td>0.429688</td>\n",
       "      <td>0.395833</td>\n",
       "      <td>0.416667</td>\n",
       "      <td>0.382332</td>\n",
       "      <td>24436800</td>\n",
       "    </tr>\n",
       "    <tr>\n",
       "      <th>3</th>\n",
       "      <td>1999-01-28</td>\n",
       "      <td>0.416667</td>\n",
       "      <td>0.419271</td>\n",
       "      <td>0.412760</td>\n",
       "      <td>0.415365</td>\n",
       "      <td>0.381137</td>\n",
       "      <td>22752000</td>\n",
       "    </tr>\n",
       "    <tr>\n",
       "      <th>4</th>\n",
       "      <td>1999-01-29</td>\n",
       "      <td>0.415365</td>\n",
       "      <td>0.416667</td>\n",
       "      <td>0.395833</td>\n",
       "      <td>0.395833</td>\n",
       "      <td>0.363215</td>\n",
       "      <td>24403200</td>\n",
       "    </tr>\n",
       "  </tbody>\n",
       "</table>\n",
       "</div>"
      ],
      "text/plain": [
       "         Date      Open      High       Low     Close  Adj Close    Volume\n",
       "0  1999-01-25  0.442708  0.458333  0.410156  0.453125   0.415786  51048000\n",
       "1  1999-01-26  0.458333  0.467448  0.411458  0.417969   0.383527  34320000\n",
       "2  1999-01-27  0.419271  0.429688  0.395833  0.416667   0.382332  24436800\n",
       "3  1999-01-28  0.416667  0.419271  0.412760  0.415365   0.381137  22752000\n",
       "4  1999-01-29  0.415365  0.416667  0.395833  0.395833   0.363215  24403200"
      ]
     },
     "execution_count": 4,
     "metadata": {},
     "output_type": "execute_result"
    }
   ],
   "source": [
    "dados_nvidia.head()"
   ]
  },
  {
   "cell_type": "code",
   "execution_count": 5,
   "id": "e2a81524",
   "metadata": {},
   "outputs": [
    {
     "data": {
      "text/plain": [
       "0    0.453125\n",
       "1    0.417969\n",
       "2    0.416667\n",
       "3    0.415365\n",
       "4    0.395833\n",
       "Name: Close, dtype: float64"
      ]
     },
     "execution_count": 5,
     "metadata": {},
     "output_type": "execute_result"
    }
   ],
   "source": [
    "precos = dados_nvidia['Close']\n",
    "precos.head()"
   ]
  },
  {
   "cell_type": "code",
   "execution_count": 6,
   "id": "458b5ec3",
   "metadata": {},
   "outputs": [
    {
     "data": {
      "text/plain": [
       "0"
      ]
     },
     "execution_count": 6,
     "metadata": {},
     "output_type": "execute_result"
    }
   ],
   "source": [
    "precos.isna().sum()  # não existem valores ausentes"
   ]
  },
  {
   "cell_type": "code",
   "execution_count": 7,
   "id": "88f3d6c4",
   "metadata": {},
   "outputs": [
    {
     "data": {
      "text/plain": [
       "6094"
      ]
     },
     "execution_count": 7,
     "metadata": {},
     "output_type": "execute_result"
    }
   ],
   "source": [
    "num_linhas = len(precos.index)\n",
    "num_linhas"
   ]
  },
  {
   "cell_type": "code",
   "execution_count": 10,
   "id": "723bce67",
   "metadata": {},
   "outputs": [],
   "source": [
    "tamanho_janela = 3\n",
    "matriz = [[0 for x in range(tamanho_janela + 1)] for y in range(num_linhas)] "
   ]
  },
  {
   "cell_type": "code",
   "execution_count": 11,
   "id": "1d991e96",
   "metadata": {},
   "outputs": [
    {
     "data": {
      "text/plain": [
       "[[0, 0, 0, 0],\n",
       " [0, 0, 0, 0],\n",
       " [0, 0, 0, 0],\n",
       " [0, 0, 0, 0],\n",
       " [0, 0, 0, 0],\n",
       " [0, 0, 0, 0],\n",
       " [0, 0, 0, 0],\n",
       " [0, 0, 0, 0],\n",
       " [0, 0, 0, 0],\n",
       " [0, 0, 0, 0]]"
      ]
     },
     "execution_count": 11,
     "metadata": {},
     "output_type": "execute_result"
    }
   ],
   "source": [
    "matriz[:10][:]  # visualização da matriz alocada"
   ]
  },
  {
   "cell_type": "code",
   "execution_count": 12,
   "id": "985db4d5",
   "metadata": {},
   "outputs": [],
   "source": [
    "for i in range(num_linhas - tamanho_janela):\n",
    "    for j in range(tamanho_janela + 1):\n",
    "        matriz[i][j] = precos[i + j]"
   ]
  },
  {
   "cell_type": "code",
   "execution_count": 13,
   "id": "6fc22a3a",
   "metadata": {},
   "outputs": [
    {
     "name": "stdout",
     "output_type": "stream",
     "text": [
      "0.453125\n",
      "0.417969\n",
      "0.416667\n",
      "0.415365\n",
      "\n",
      "\n",
      "0.417969\n",
      "0.416667\n",
      "0.415365\n",
      "0.395833\n",
      "\n",
      "\n",
      "0.416667\n",
      "0.415365\n",
      "0.395833\n",
      "0.403646\n",
      "\n",
      "\n",
      "0.415365\n",
      "0.395833\n",
      "0.403646\n",
      "0.372396\n",
      "\n",
      "\n"
     ]
    }
   ],
   "source": [
    "for i in range(7 - tamanho_janela):\n",
    "    for j in range(tamanho_janela + 1):\n",
    "        print(matriz[i][j])\n",
    "    print('\\n')"
   ]
  },
  {
   "cell_type": "code",
   "execution_count": 19,
   "id": "33426b20",
   "metadata": {},
   "outputs": [],
   "source": [
    "tabela = pd.DataFrame(matriz)"
   ]
  },
  {
   "cell_type": "code",
   "execution_count": 20,
   "id": "02ca5689",
   "metadata": {},
   "outputs": [
    {
     "data": {
      "text/html": [
       "<div>\n",
       "<style scoped>\n",
       "    .dataframe tbody tr th:only-of-type {\n",
       "        vertical-align: middle;\n",
       "    }\n",
       "\n",
       "    .dataframe tbody tr th {\n",
       "        vertical-align: top;\n",
       "    }\n",
       "\n",
       "    .dataframe thead th {\n",
       "        text-align: right;\n",
       "    }\n",
       "</style>\n",
       "<table border=\"1\" class=\"dataframe\">\n",
       "  <thead>\n",
       "    <tr style=\"text-align: right;\">\n",
       "      <th></th>\n",
       "      <th>0</th>\n",
       "      <th>1</th>\n",
       "      <th>2</th>\n",
       "      <th>3</th>\n",
       "    </tr>\n",
       "  </thead>\n",
       "  <tbody>\n",
       "    <tr>\n",
       "      <th>0</th>\n",
       "      <td>0.453125</td>\n",
       "      <td>0.417969</td>\n",
       "      <td>0.416667</td>\n",
       "      <td>0.415365</td>\n",
       "    </tr>\n",
       "    <tr>\n",
       "      <th>1</th>\n",
       "      <td>0.417969</td>\n",
       "      <td>0.416667</td>\n",
       "      <td>0.415365</td>\n",
       "      <td>0.395833</td>\n",
       "    </tr>\n",
       "    <tr>\n",
       "      <th>2</th>\n",
       "      <td>0.416667</td>\n",
       "      <td>0.415365</td>\n",
       "      <td>0.395833</td>\n",
       "      <td>0.403646</td>\n",
       "    </tr>\n",
       "    <tr>\n",
       "      <th>3</th>\n",
       "      <td>0.415365</td>\n",
       "      <td>0.395833</td>\n",
       "      <td>0.403646</td>\n",
       "      <td>0.372396</td>\n",
       "    </tr>\n",
       "    <tr>\n",
       "      <th>4</th>\n",
       "      <td>0.395833</td>\n",
       "      <td>0.403646</td>\n",
       "      <td>0.372396</td>\n",
       "      <td>0.380208</td>\n",
       "    </tr>\n",
       "  </tbody>\n",
       "</table>\n",
       "</div>"
      ],
      "text/plain": [
       "          0         1         2         3\n",
       "0  0.453125  0.417969  0.416667  0.415365\n",
       "1  0.417969  0.416667  0.415365  0.395833\n",
       "2  0.416667  0.415365  0.395833  0.403646\n",
       "3  0.415365  0.395833  0.403646  0.372396\n",
       "4  0.395833  0.403646  0.372396  0.380208"
      ]
     },
     "execution_count": 20,
     "metadata": {},
     "output_type": "execute_result"
    }
   ],
   "source": [
    "tabela.head()"
   ]
  },
  {
   "cell_type": "code",
   "execution_count": 29,
   "id": "d10667e8",
   "metadata": {},
   "outputs": [],
   "source": [
    "tabela.columns = ['1', '2', '3', 'Saída']"
   ]
  },
  {
   "cell_type": "code",
   "execution_count": 31,
   "id": "4146af7e",
   "metadata": {},
   "outputs": [
    {
     "data": {
      "text/html": [
       "<div>\n",
       "<style scoped>\n",
       "    .dataframe tbody tr th:only-of-type {\n",
       "        vertical-align: middle;\n",
       "    }\n",
       "\n",
       "    .dataframe tbody tr th {\n",
       "        vertical-align: top;\n",
       "    }\n",
       "\n",
       "    .dataframe thead th {\n",
       "        text-align: right;\n",
       "    }\n",
       "</style>\n",
       "<table border=\"1\" class=\"dataframe\">\n",
       "  <thead>\n",
       "    <tr style=\"text-align: right;\">\n",
       "      <th></th>\n",
       "      <th>1</th>\n",
       "      <th>2</th>\n",
       "      <th>3</th>\n",
       "      <th>Saída</th>\n",
       "    </tr>\n",
       "  </thead>\n",
       "  <tbody>\n",
       "    <tr>\n",
       "      <th>0</th>\n",
       "      <td>0.453125</td>\n",
       "      <td>0.417969</td>\n",
       "      <td>0.416667</td>\n",
       "      <td>0.415365</td>\n",
       "    </tr>\n",
       "    <tr>\n",
       "      <th>1</th>\n",
       "      <td>0.417969</td>\n",
       "      <td>0.416667</td>\n",
       "      <td>0.415365</td>\n",
       "      <td>0.395833</td>\n",
       "    </tr>\n",
       "    <tr>\n",
       "      <th>2</th>\n",
       "      <td>0.416667</td>\n",
       "      <td>0.415365</td>\n",
       "      <td>0.395833</td>\n",
       "      <td>0.403646</td>\n",
       "    </tr>\n",
       "    <tr>\n",
       "      <th>3</th>\n",
       "      <td>0.415365</td>\n",
       "      <td>0.395833</td>\n",
       "      <td>0.403646</td>\n",
       "      <td>0.372396</td>\n",
       "    </tr>\n",
       "    <tr>\n",
       "      <th>4</th>\n",
       "      <td>0.395833</td>\n",
       "      <td>0.403646</td>\n",
       "      <td>0.372396</td>\n",
       "      <td>0.380208</td>\n",
       "    </tr>\n",
       "    <tr>\n",
       "      <th>5</th>\n",
       "      <td>0.403646</td>\n",
       "      <td>0.372396</td>\n",
       "      <td>0.380208</td>\n",
       "      <td>0.401042</td>\n",
       "    </tr>\n",
       "    <tr>\n",
       "      <th>6</th>\n",
       "      <td>0.372396</td>\n",
       "      <td>0.380208</td>\n",
       "      <td>0.401042</td>\n",
       "      <td>0.412760</td>\n",
       "    </tr>\n",
       "    <tr>\n",
       "      <th>7</th>\n",
       "      <td>0.380208</td>\n",
       "      <td>0.401042</td>\n",
       "      <td>0.412760</td>\n",
       "      <td>0.398438</td>\n",
       "    </tr>\n",
       "    <tr>\n",
       "      <th>8</th>\n",
       "      <td>0.401042</td>\n",
       "      <td>0.412760</td>\n",
       "      <td>0.398438</td>\n",
       "      <td>0.382813</td>\n",
       "    </tr>\n",
       "    <tr>\n",
       "      <th>9</th>\n",
       "      <td>0.412760</td>\n",
       "      <td>0.398438</td>\n",
       "      <td>0.382813</td>\n",
       "      <td>0.378906</td>\n",
       "    </tr>\n",
       "  </tbody>\n",
       "</table>\n",
       "</div>"
      ],
      "text/plain": [
       "          1         2         3     Saída\n",
       "0  0.453125  0.417969  0.416667  0.415365\n",
       "1  0.417969  0.416667  0.415365  0.395833\n",
       "2  0.416667  0.415365  0.395833  0.403646\n",
       "3  0.415365  0.395833  0.403646  0.372396\n",
       "4  0.395833  0.403646  0.372396  0.380208\n",
       "5  0.403646  0.372396  0.380208  0.401042\n",
       "6  0.372396  0.380208  0.401042  0.412760\n",
       "7  0.380208  0.401042  0.412760  0.398438\n",
       "8  0.401042  0.412760  0.398438  0.382813\n",
       "9  0.412760  0.398438  0.382813  0.378906"
      ]
     },
     "execution_count": 31,
     "metadata": {},
     "output_type": "execute_result"
    }
   ],
   "source": [
    "tabela.head(10)"
   ]
  },
  {
   "cell_type": "code",
   "execution_count": null,
   "id": "38b3c690",
   "metadata": {},
   "outputs": [],
   "source": []
  }
 ],
 "metadata": {
  "kernelspec": {
   "display_name": "Python 3 (ipykernel)",
   "language": "python",
   "name": "python3"
  },
  "language_info": {
   "codemirror_mode": {
    "name": "ipython",
    "version": 3
   },
   "file_extension": ".py",
   "mimetype": "text/x-python",
   "name": "python",
   "nbconvert_exporter": "python",
   "pygments_lexer": "ipython3",
   "version": "3.11.3"
  }
 },
 "nbformat": 4,
 "nbformat_minor": 5
}
